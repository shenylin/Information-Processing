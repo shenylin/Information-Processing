{
 "cells": [
  {
   "cell_type": "markdown",
   "metadata": {
    "collapsed": true
   },
   "source": [
    "# Final Project #"
   ]
  },
  {
   "cell_type": "markdown",
   "metadata": {
    "pycharm": {
     "name": "#%%\n"
    }
   },
   "source": [
    "## Requirement\n",
    "This notebook requires a virtual environment that includes packages for Python 3.9 and Jupyter.\n",
    "\n",
    "This notebook is included in a PyCharm project. It makes use of Python code within the PyCharm project directory."
   ]
  },
  {
   "cell_type": "markdown",
   "metadata": {},
   "source": [
    "## Overview\n",
    "This notebook should run the workflow that includes all of the exercises in this Final Project. This notebook should include complete documentation for the Final Project workflow. This includes the following sections:\n",
    "1. Title\n",
    "2. Requirements\n",
    "3. Overview\n",
    "4. Select and Summarize (U.S./ U.K. / France)\n",
    "5. Join Country Summaries\n",
    "6. Create Company-Wide Expense Summary Report"
   ]
  },
  {
   "cell_type": "markdown",
   "metadata": {},
   "source": [
    "## Select and Summarize"
   ]
  },
  {
   "cell_type": "markdown",
   "metadata": {},
   "source": [
    "### Parameter "
   ]
  },
  {
   "cell_type": "code",
   "execution_count": 8,
   "metadata": {},
   "outputs": [],
   "source": [
    "target_year = 2020\n",
    "target_category = 'Fuel'\n",
    "data_directory = 'data'"
   ]
  },
  {
   "cell_type": "markdown",
   "metadata": {},
   "source": [
    "### U.S."
   ]
  },
  {
   "cell_type": "code",
   "execution_count": 10,
   "metadata": {},
   "outputs": [
    {
     "name": "stdout",
     "output_type": "stream",
     "text": [
      "\n",
      "20,001 lines were read from us_expense_records.txt.\n",
      "749 qualifying expense records were accumulated.\n",
      "\n",
      "\n",
      "U.S. OPERATIONS\n",
      "SUMMARY OF FUEL EXPENSES FOR 2020\n",
      "\n",
      "Month    Amount (USD)\n",
      "    1      72,742.79\n",
      "    2      45,758.93\n",
      "    3      64,399.68\n",
      "    4      58,308.71\n",
      "    5      61,662.60\n",
      "    6      70,589.85\n",
      "    7      59,945.88\n",
      "    8      69,182.55\n",
      "    9      73,945.30\n",
      "   10      69,162.65\n",
      "   11      62,375.22\n",
      "   12      83,871.87\n",
      "\n",
      "\n",
      "Summary file was created as us_summarized_target_expenses.txt.\n"
     ]
    }
   ],
   "source": [
    "from us_select_and_summarize import do_us_select_and_summarize\n",
    "input_filename = 'us_expense_records.txt'\n",
    "output_filename = 'us_summarized_target_expenses.txt'\n",
    "do_us_select_and_summarize(target_year, target_category,data_directory,input_filename,output_filename)"
   ]
  },
  {
   "cell_type": "markdown",
   "metadata": {},
   "source": [
    "### U.K."
   ]
  },
  {
   "cell_type": "code",
   "execution_count": 11,
   "metadata": {},
   "outputs": [
    {
     "name": "stdout",
     "output_type": "stream",
     "text": [
      "\n",
      "6,667 lines were read from uk_expense_records.txt.\n",
      "217 qualifying expense records were accumulated.\n",
      "\n",
      "\n",
      "U.K. OPERATIONS\n",
      "SUMMARY OF FUEL EXPENSES FOR 2020\n",
      "\n",
      "Month    Amount (USD)\n",
      "    1      16,083.88\n",
      "    2      24,874.43\n",
      "    3      19,376.45\n",
      "    4      19,591.66\n",
      "    5      20,596.45\n",
      "    6      17,399.42\n",
      "    7      22,621.51\n",
      "    8      23,754.80\n",
      "    9      11,856.29\n",
      "   10      12,775.92\n",
      "   11      22,577.32\n",
      "   12      17,280.50\n",
      "\n",
      "\n",
      "Summary file was created as uk_summarized_target_expenses.txt.\n"
     ]
    }
   ],
   "source": [
    "from uk_select_and_summarize import do_uk_select_and_summarize\n",
    "input_filename = 'uk_expense_records.txt'\n",
    "output_filename = 'uk_summarized_target_expenses.txt'\n",
    "do_uk_select_and_summarize(target_year, target_category,data_directory,input_filename,output_filename)"
   ]
  },
  {
   "cell_type": "markdown",
   "metadata": {},
   "source": [
    "### France"
   ]
  },
  {
   "cell_type": "code",
   "execution_count": 12,
   "metadata": {},
   "outputs": [
    {
     "name": "stdout",
     "output_type": "stream",
     "text": [
      "\n",
      "5,001 lines were read from fr_expense_records.txt.\n",
      "191 qualifying expense records were accumulated.\n",
      "\n",
      "\n",
      "FRENCH OPERATIONS\n",
      "SUMMARY OF FUEL EXPENSES FOR 2020\n",
      "\n",
      "Month    Amount (USD)\n",
      "    1      14,365.95\n",
      "    2      14,354.80\n",
      "    3      16,059.11\n",
      "    4      17,538.96\n",
      "    5      12,199.59\n",
      "    6      14,119.40\n",
      "    7      24,520.53\n",
      "    8      13,556.39\n",
      "    9      16,615.88\n",
      "   10      16,768.71\n",
      "   11      17,964.19\n",
      "   12      18,998.29\n",
      "\n",
      "\n",
      "Summary file was created as fr_summarized_target_expenses.txt.\n"
     ]
    }
   ],
   "source": [
    "from fr_select_and_summarize import do_fr_select_and_summarize\n",
    "input_filename = 'fr_expense_records.txt'\n",
    "output_filename = 'fr_summarized_target_expenses.txt'\n",
    "do_fr_select_and_summarize(target_year, target_category,data_directory,input_filename,output_filename)"
   ]
  },
  {
   "cell_type": "markdown",
   "metadata": {},
   "source": [
    "## Join Country Summaries"
   ]
  },
  {
   "cell_type": "code",
   "execution_count": 13,
   "metadata": {},
   "outputs": [],
   "source": [
    "us_input_filename = 'us_summarized_target_expenses.txt'\n",
    "uk_input_filename = 'uk_summarized_target_expenses.txt'\n",
    "fr_input_filename = 'fr_summarized_target_expenses.txt'\n",
    "output_filename = 'joined_summarized_target_expenses.txt'"
   ]
  },
  {
   "cell_type": "code",
   "execution_count": 14,
   "metadata": {},
   "outputs": [
    {
     "name": "stdout",
     "output_type": "stream",
     "text": [
      "\n",
      "12 joined expense summary records were written to joined_summarized_target_expenses.txt.\n"
     ]
    }
   ],
   "source": [
    "from join_selected_summarized_expenses import do_join_selected_summarized_expenses\n",
    "do_join_selected_summarized_expenses(data_directory, us_input_filename, uk_input_filename,fr_input_filename, output_filename)"
   ]
  },
  {
   "cell_type": "markdown",
   "metadata": {},
   "source": [
    "## Create Company-Wide Expense Summary Report "
   ]
  },
  {
   "cell_type": "markdown",
   "metadata": {},
   "source": [
    "### Regular Version "
   ]
  },
  {
   "cell_type": "code",
   "execution_count": 15,
   "metadata": {},
   "outputs": [
    {
     "name": "stdout",
     "output_type": "stream",
     "text": [
      "Please enter input file name: joined_summarized_target_expenses.txt\n",
      "\n",
      "\n",
      "                       COMBINED OPERATIONS                       \n",
      "            SUMMARY OF FUEL EXPENSE AMOUNTS FOR 2020\n",
      "                            BY MONTH                             \n",
      "\n",
      " Month      US Amount      UK Amount      FR Amount   Total Amount\n",
      "                (USD)          (USD)          (USD)          (USD)\n",
      "     1      72,742.79      16,083.88      14,365.95     103,192.62\n",
      "     2      45,758.93      24,874.43      14,354.80      84,988.16\n",
      "     3      64,399.68      19,376.45      16,059.11      99,835.24\n",
      "     4      58,308.71      19,591.66      17,538.96      95,439.33\n",
      "     5      61,662.60      20,596.45      12,199.59      94,458.64\n",
      "     6      70,589.85      17,399.42      14,119.40     102,108.67\n",
      "     7      59,945.88      22,621.51      24,520.53     107,087.92\n",
      "     8      69,182.55      23,754.80      13,556.39     106,493.74\n",
      "     9      73,945.30      11,856.29      16,615.88     102,417.47\n",
      "    10      69,162.65      12,775.92      16,768.71      98,707.28\n",
      "    11      62,375.22      22,577.32      17,964.19     102,916.73\n",
      "    12      83,871.87      17,280.50      18,998.29     120,150.66\n",
      " Total     791,946.03     228,788.63     197,061.80   1,217,796.46\n",
      "\n",
      "\n",
      "                       COMBINED OPERATIONS                       \n",
      "            SUMMARY OF FUEL EXPENSE AMOUNTS FOR 2020\n",
      "                   BY DESCENDING TOTAL AMOUNT                    \n",
      "\n",
      " Month      US Amount      UK Amount      FR Amount   Total Amount\n",
      "                (USD)          (USD)          (USD)          (USD)\n",
      "    12      83,871.87      17,280.50      18,998.29     120,150.66\n",
      "     7      59,945.88      22,621.51      24,520.53     107,087.92\n",
      "     8      69,182.55      23,754.80      13,556.39     106,493.74\n",
      "     1      72,742.79      16,083.88      14,365.95     103,192.62\n",
      "    11      62,375.22      22,577.32      17,964.19     102,916.73\n",
      "     9      73,945.30      11,856.29      16,615.88     102,417.47\n",
      "     6      70,589.85      17,399.42      14,119.40     102,108.67\n",
      "     3      64,399.68      19,376.45      16,059.11      99,835.24\n",
      "    10      69,162.65      12,775.92      16,768.71      98,707.28\n",
      "     4      58,308.71      19,591.66      17,538.96      95,439.33\n",
      "     5      61,662.60      20,596.45      12,199.59      94,458.64\n",
      "     2      45,758.93      24,874.43      14,354.80      84,988.16\n",
      " Total     791,946.03     228,788.63     197,061.80   1,217,796.46\n"
     ]
    },
    {
     "ename": "AttributeError",
     "evalue": "module 'create_companywide_expense_summary_report' has no attribute 'get_expense'",
     "output_type": "error",
     "traceback": [
      "\u001B[0;31m---------------------------------------------------------------------------\u001B[0m",
      "\u001B[0;31mAttributeError\u001B[0m                            Traceback (most recent call last)",
      "Input \u001B[0;32mIn [15]\u001B[0m, in \u001B[0;36m<cell line: 2>\u001B[0;34m()\u001B[0m\n\u001B[1;32m      1\u001B[0m \u001B[38;5;28;01mimport\u001B[39;00m \u001B[38;5;21;01mcreate_companywide_expense_summary_report\u001B[39;00m \u001B[38;5;28;01mas\u001B[39;00m \u001B[38;5;21;01mcr\u001B[39;00m\n\u001B[0;32m----> 2\u001B[0m expense, category, year \u001B[38;5;241m=\u001B[39m \u001B[43mcr\u001B[49m\u001B[38;5;241;43m.\u001B[39;49m\u001B[43mget_expense\u001B[49m()\n\u001B[1;32m      4\u001B[0m \u001B[38;5;28msorted\u001B[39m(expense, key\u001B[38;5;241m=\u001B[39mcr\u001B[38;5;241m.\u001B[39mby_month)\n\u001B[1;32m      5\u001B[0m cr\u001B[38;5;241m.\u001B[39mprint_report(expense, \u001B[38;5;124m'\u001B[39m\u001B[38;5;124mBY MONTH\u001B[39m\u001B[38;5;124m'\u001B[39m, category, year)\n",
      "\u001B[0;31mAttributeError\u001B[0m: module 'create_companywide_expense_summary_report' has no attribute 'get_expense'"
     ]
    }
   ],
   "source": [
    "import create_companywide_expense_summary_report as cr\n",
    "expense, category, year = cr.get_expense()\n",
    "\n",
    "sorted(expense, key=cr.by_month)\n",
    "cr.print_report(expense, 'BY MONTH', category, year)\n",
    "\n",
    "expense.sort(key=cr.by_total_amount, reverse=True)\n",
    "cr.print_report(expense, 'BY DESCENDING TOTAL AMOUNT', category, year)"
   ]
  },
  {
   "cell_type": "code",
   "execution_count": null,
   "metadata": {},
   "outputs": [],
   "source": []
  },
  {
   "cell_type": "code",
   "execution_count": null,
   "metadata": {},
   "outputs": [],
   "source": []
  }
 ],
 "metadata": {
  "kernelspec": {
   "display_name": "Python 3 (ipykernel)",
   "language": "python",
   "name": "python3"
  },
  "language_info": {
   "codemirror_mode": {
    "name": "ipython",
    "version": 3
   },
   "file_extension": ".py",
   "mimetype": "text/x-python",
   "name": "python",
   "nbconvert_exporter": "python",
   "pygments_lexer": "ipython3",
   "version": "3.8.12"
  }
 },
 "nbformat": 4,
 "nbformat_minor": 1
}